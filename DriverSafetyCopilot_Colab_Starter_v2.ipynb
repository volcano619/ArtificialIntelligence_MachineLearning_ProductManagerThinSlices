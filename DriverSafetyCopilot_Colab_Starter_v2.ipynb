{
 "cells": [
  {
   "cell_type": "markdown",
   "id": "5a3618e3",
   "metadata": {},
   "source": [
    "# 🚚 Driver Safety Copilot — Colab Starter v2"
   ]
  },
  {
   "cell_type": "code",
   "execution_count": null,
   "id": "e07218cd",
   "metadata": {},
   "outputs": [],
   "source": [
    "\n",
    "from google.colab import drive\n",
    "drive.mount('/content/drive')\n"
   ]
  },
  {
   "cell_type": "code",
   "execution_count": null,
   "id": "e02e4bd6",
   "metadata": {},
   "outputs": [],
   "source": [
    "\n",
    "!rm -rf /content/DriverSafetyCopilot && mkdir -p /content/DriverSafetyCopilot\n",
    "# Upload this zip to Colab first or copy from Drive, then set the path:\n",
    "zip_path = \"/content/DriverSafetyCopilot_Netradyne_ThinSlice.zip\"\n",
    "!unzip -q \"$zip_path\" -d /content/DriverSafetyCopilot\n",
    "!ls -la /content/DriverSafetyCopilot\n"
   ]
  },
  {
   "cell_type": "code",
   "execution_count": null,
   "id": "34825caf",
   "metadata": {},
   "outputs": [],
   "source": [
    "\n",
    "%pip -q install streamlit==1.38.0 pandas==2.2.2 numpy==2.0.1 pyngrok==6.0.0\n",
    "# Optional:\n",
    "# %pip -q install mediapipe opencv-python\n"
   ]
  },
  {
   "cell_type": "code",
   "execution_count": null,
   "id": "ef62a2ea",
   "metadata": {},
   "outputs": [],
   "source": [
    "\n",
    "import os, subprocess, threading, time\n",
    "from pyngrok import ngrok\n",
    "BASE = \"/content/DriverSafetyCopilot\"\n",
    "APP = os.path.join(BASE, \"app\", \"streamlit_app.py\")\n",
    "ngrok.kill()\n",
    "port = 8502\n",
    "def run_app(): subprocess.call([\"streamlit\",\"run\",APP,\"--server.port\",str(port),\"--\",\"--mock\",\"true\"])\n",
    "threading.Thread(target=run_app, daemon=True).start()\n",
    "time.sleep(4)\n",
    "print(\"App:\", ngrok.connect(port, \"http\").public_url)\n"
   ]
  },
  {
   "cell_type": "code",
   "execution_count": null,
   "id": "c7db09eb",
   "metadata": {},
   "outputs": [],
   "source": [
    "\n",
    "%cd /content/DriverSafetyCopilot\n",
    "!python eval/build_eval_set.py --n_phone 12 --n_eyes 12 --n_safe 8\n",
    "!python scripts/generate_mock_predictions.py --labels eval/labels.csv --out eval/inference_logs.csv --hit_rate 0.92\n",
    "!python eval/score_eval_plus.py\n"
   ]
  }
 ],
 "metadata": {},
 "nbformat": 4,
 "nbformat_minor": 5
}
